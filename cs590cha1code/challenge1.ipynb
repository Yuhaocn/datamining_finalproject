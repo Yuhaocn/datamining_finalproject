{
 "cells": [
  {
   "cell_type": "code",
   "execution_count": 192,
   "id": "b3058050",
   "metadata": {},
   "outputs": [],
   "source": [
    "import pandas as pd\n",
    "from sklearn import preprocessing\n",
    "import matplotlib.pyplot as plt\n",
    "import numpy as np\n",
    "from sklearn.feature_selection import f_classif\n",
    "from sklearn.naive_bayes import GaussianNB\n",
    "from sklearn.model_selection import cross_val_score\n",
    "from sklearn.model_selection import GridSearchCV"
   ]
  },
  {
   "cell_type": "code",
   "execution_count": 193,
   "id": "35b72acc",
   "metadata": {},
   "outputs": [],
   "source": [
    "train_df = pd.read_csv('./data/pp5i_train.gr.csv')\n",
    "test_df = pd.read_csv('./data/pp5i_test.gr.csv')\n",
    "class_df = pd.read_csv('./data/pp5i_train_class.txt')"
   ]
  },
  {
   "cell_type": "code",
   "execution_count": 194,
   "id": "8f6538a7",
   "metadata": {},
   "outputs": [],
   "source": [
    "class_np = class_df.to_numpy()\n",
    "\n",
    "le = preprocessing.LabelEncoder()\n",
    "le.fit(np.ravel(class_np))\n",
    "train_class = le.transform(np.ravel(class_np))"
   ]
  },
  {
   "cell_type": "code",
   "execution_count": 195,
   "id": "bea6294a",
   "metadata": {},
   "outputs": [
    {
     "name": "stdout",
     "output_type": "stream",
     "text": [
      "[2 2 2 2 2 2 2 2 2 2 2 2 2 2 2 2 2 2 2 2 2 2 2 2 2 2 2 2 2 2 2 2 2 2 2 2 2\n",
      " 2 2 3 3 3 3 3 3 3 4 4 4 4 4 4 4 0 0 0 0 0 0 0 0 0 0 1 1 1 1 1 1]\n"
     ]
    }
   ],
   "source": [
    "print(train_class)"
   ]
  },
  {
   "cell_type": "markdown",
   "id": "0a82ac4c",
   "metadata": {},
   "source": [
    "### Step 1. Data Cleaning"
   ]
  },
  {
   "cell_type": "code",
   "execution_count": 196,
   "id": "55240c72",
   "metadata": {},
   "outputs": [],
   "source": [
    "#Threshold both train and test data to a minimum value of 20, maximum of 16,000.#\n",
    "\n",
    "\n",
    "train_df=train_df.iloc[:,1:].clip(20,16000)\n",
    "\n",
    "\n",
    "test_df=test_df.iloc[:,1:].clip(20,16000)\n"
   ]
  },
  {
   "cell_type": "markdown",
   "id": "b486c92c",
   "metadata": {},
   "source": [
    "### Step 2. Selecting top genes by class"
   ]
  },
  {
   "cell_type": "code",
   "execution_count": 197,
   "id": "dc5ec94b",
   "metadata": {},
   "outputs": [],
   "source": [
    "#Remove from train data genes with fold differences across samples less than 2.#\n",
    "train_cal = abs(train_df.max(axis=1)/train_df.min(axis=1))\n",
    "del_ind = train_cal[train_cal<2].index\n",
    "train_df=train_df.drop(del_ind)"
   ]
  },
  {
   "cell_type": "code",
   "execution_count": 198,
   "id": "881dc890",
   "metadata": {},
   "outputs": [],
   "source": [
    "#perform ANOVA\n",
    "train_temp = train_df.T\n"
   ]
  },
  {
   "cell_type": "code",
   "execution_count": 199,
   "id": "7dc15289",
   "metadata": {},
   "outputs": [],
   "source": [
    "from sklearn.feature_selection import f_classif\n",
    "new_train = f_classif(train_temp,train_class)\n",
    "train_df['rank'] = new_train[0]\n",
    "train_df=train_df.sort_values('rank',ascending=False)\n"
   ]
  },
  {
   "cell_type": "code",
   "execution_count": 200,
   "id": "6909d710",
   "metadata": {},
   "outputs": [],
   "source": [
    "#For N combine top genes for each class into one file and removing duplicates#\n",
    "N = [2,4,6,8,10,12,15,20,25,30]\n",
    "train_df=train_df.drop('rank',axis=1)\n",
    "classes = np.unique(class_df.values)\n",
    "for n in N:\n",
    "    top_genes = set()\n",
    "    top_genes.update(train_df.head(n).index.tolist())\n",
    "    pd.concat([train_df.loc[list(top_genes), :].T.reset_index(drop=True), class_df],\n",
    "                  axis=1).to_csv('pp5i_train.top'+str(n)+'.gr.csv', index=False)\n"
   ]
  },
  {
   "cell_type": "markdown",
   "id": "40f22624",
   "metadata": {},
   "source": [
    "## Step 3. Find the best classifier/best gene set combination"
   ]
  },
  {
   "cell_type": "code",
   "execution_count": 201,
   "id": "c0733976",
   "metadata": {},
   "outputs": [],
   "source": [
    "for n in N:\n",
    "    globals()['x_train%s' % n] = pd.read_csv('pp5i_train.top'+str(n)+'.gr.csv').drop(labels='Class', axis=1).values.tolist()\n",
    "    globals()['y_train%s' % n] = le.transform(np.ravel(pd.read_csv('pp5i_train.top'+str(n)+'.gr.csv', usecols=['Class']).values.tolist()))"
   ]
  },
  {
   "cell_type": "markdown",
   "id": "9f7e8733",
   "metadata": {},
   "source": [
    "Naïve Bayes (Gaussian Naive Bayes)"
   ]
  },
  {
   "cell_type": "code",
   "execution_count": 202,
   "id": "f24a34dd",
   "metadata": {},
   "outputs": [
    {
     "name": "stdout",
     "output_type": "stream",
     "text": [
      "N=2 error rate: 0.73 \n",
      "N=4 error rate: 0.45 \n",
      "N=6 error rate: 0.38 \n",
      "N=8 error rate: 0.44 \n",
      "N=10 error rate: 0.48 \n",
      "N=12 error rate: 0.42 \n",
      "N=15 error rate: 0.32 \n",
      "N=20 error rate: 0.26 \n",
      "N=25 error rate: 0.23 \n",
      "N=30 error rate: 0.22 \n"
     ]
    },
    {
     "data": {
      "image/png": "[encoded data removed]",
      "text/plain": [
       "<Figure size 432x288 with 1 Axes>"
      ]
     },
     "metadata": {
      "needs_background": "light"
     },
     "output_type": "display_data"
    }
   ],
   "source": [
    "def search_gene(clf):\n",
    "    best_score = 0\n",
    "    accuracy = []\n",
    "    for n in N:\n",
    "        scores = cross_val_score(clf, globals()['x_train%s'%n], globals()['y_train%s'%n], cv=5, n_jobs=-1)\n",
    "        score = 1- scores.mean()\n",
    "        accuracy.append(score)\n",
    "        print(\"N=%d error rate: %0.2f \" % (n, score))\n",
    "        best_n = n if score > best_score else best_n\n",
    "        best_score = score if score > best_score else best_score\n",
    "    return best_n, accuracy\n",
    "\n",
    "best_n, scores = search_gene(GaussianNB())\n",
    "\n",
    "def draw(scores, name):\n",
    "    plt.plot(N, scores)\n",
    "    plt.xlabel('number of genes')\n",
    "    plt.ylabel('error rate')\n",
    "    plt.title(name)\n",
    "    plt.show()\n",
    "    \n",
    "draw(scores, 'Gaussian Naive Bayes')"
   ]
  },
  {
   "cell_type": "markdown",
   "id": "85d14939",
   "metadata": {},
   "source": [
    "Decision tree (J48 algorithm)"
   ]
  },
  {
   "cell_type": "code",
   "execution_count": 18,
   "id": "221c3162",
   "metadata": {},
   "outputs": [
    {
     "name": "stdout",
     "output_type": "stream",
     "text": [
      "N=2 error rate: 0.32 \n",
      "N=4 error rate: 0.25 \n",
      "N=6 error rate: 0.31 \n",
      "N=8 error rate: 0.25 \n",
      "N=10 error rate: 0.22 \n",
      "N=12 error rate: 0.19 \n",
      "N=15 error rate: 0.07 \n",
      "N=20 error rate: 0.12 \n",
      "N=25 error rate: 0.15 \n",
      "N=30 error rate: 0.09 \n"
     ]
    },
    {
     "data": {
      "image/png": "[encoded data removed]",
      "text/plain": [
       "<Figure size 432x288 with 1 Axes>"
      ]
     },
     "metadata": {
      "needs_background": "light"
     },
     "output_type": "display_data"
    }
   ],
   "source": [
    "from sklearn.tree import DecisionTreeClassifier\n",
    "\n",
    "best_n, scores = search_gene(DecisionTreeClassifier(class_weight='balanced',max_depth=30))\n",
    "\n",
    "draw(scores, 'Decision Tree')"
   ]
  },
  {
   "cell_type": "markdown",
   "id": "f9d9961b",
   "metadata": {},
   "source": [
    "K-NN"
   ]
  },
  {
   "cell_type": "code",
   "execution_count": 23,
   "id": "7879ca22",
   "metadata": {},
   "outputs": [
    {
     "name": "stdout",
     "output_type": "stream",
     "text": [
      "N=2:\n",
      "GridSearchCV(cv=5, estimator=KNeighborsClassifier(), n_jobs=-1,\n",
      "             param_grid={'n_neighbors': [2, 3, 4]})\n",
      "N=4:\n",
      "GridSearchCV(cv=5, estimator=KNeighborsClassifier(), n_jobs=-1,\n",
      "             param_grid={'n_neighbors': [2, 3, 4]})\n",
      "N=6:\n",
      "GridSearchCV(cv=5, estimator=KNeighborsClassifier(), n_jobs=-1,\n",
      "             param_grid={'n_neighbors': [2, 3, 4]})\n",
      "N=8:\n",
      "GridSearchCV(cv=5, estimator=KNeighborsClassifier(), n_jobs=-1,\n",
      "             param_grid={'n_neighbors': [2, 3, 4]})\n",
      "N=10:\n",
      "GridSearchCV(cv=5, estimator=KNeighborsClassifier(), n_jobs=-1,\n",
      "             param_grid={'n_neighbors': [2, 3, 4]})\n",
      "N=12:\n",
      "GridSearchCV(cv=5, estimator=KNeighborsClassifier(), n_jobs=-1,\n",
      "             param_grid={'n_neighbors': [2, 3, 4]})\n",
      "N=15:\n",
      "GridSearchCV(cv=5, estimator=KNeighborsClassifier(), n_jobs=-1,\n",
      "             param_grid={'n_neighbors': [2, 3, 4]})\n",
      "N=20:\n",
      "GridSearchCV(cv=5, estimator=KNeighborsClassifier(), n_jobs=-1,\n",
      "             param_grid={'n_neighbors': [2, 3, 4]})\n",
      "N=25:\n",
      "GridSearchCV(cv=5, estimator=KNeighborsClassifier(), n_jobs=-1,\n",
      "             param_grid={'n_neighbors': [2, 3, 4]})\n",
      "N=30:\n",
      "GridSearchCV(cv=5, estimator=KNeighborsClassifier(), n_jobs=-1,\n",
      "             param_grid={'n_neighbors': [2, 3, 4]})\n"
     ]
    },
    {
     "data": {
      "image/png": "[encoded data removed]",
      "text/plain": [
       "<Figure size 432x288 with 1 Axes>"
      ]
     },
     "metadata": {
      "needs_background": "light"
     },
     "output_type": "display_data"
    },
    {
     "name": "stdout",
     "output_type": "stream",
     "text": [
      "Best Params: N=30, K=3\n"
     ]
    }
   ],
   "source": [
    "from sklearn.neighbors import KNeighborsClassifier\n",
    "\n",
    "KNNclf = KNeighborsClassifier()\n",
    "\n",
    "params = {\n",
    "    'n_neighbors': [2, 3, 4]\n",
    "}\n",
    "\n",
    "best_score = 0\n",
    "accuracy = []\n",
    "for n in N:\n",
    "    cv = GridSearchCV(KNNclf, params, cv=5, n_jobs=-1)\n",
    "    cv.fit(globals()['x_train%s'%n], globals()['y_train%s'%n])\n",
    "    score = max(cv.cv_results_['mean_test_score'])\n",
    "    accuracy.append(list(1-cv.cv_results_['mean_test_score']))\n",
    "    best_n = n if score > best_score else best_n\n",
    "    best_K = cv.best_params_['n_neighbors'] if score > best_score else best_K\n",
    "    best_score = score if score > best_score else best_score\n",
    "    print('N=%s:'%n)\n",
    "    print(cv)\n",
    "\n",
    "accuracy = np.array(accuracy)\n",
    "plt.plot(N, accuracy[:, 0], label='K=2')\n",
    "plt.plot(N, accuracy[:, 1], label='K=3')\n",
    "plt.plot(N, accuracy[:, 2], label='K=4')\n",
    "plt.xlabel('number of genes')\n",
    "plt.ylabel('error rate')\n",
    "plt.title('K-NN')\n",
    "plt.legend()\n",
    "plt.show()\n",
    "\n",
    "print('Best Params: N=%d, K=%d' % (best_n, best_K))"
   ]
  },
  {
   "cell_type": "markdown",
   "id": "5c52d03a",
   "metadata": {},
   "source": [
    "Neural network"
   ]
  },
  {
   "cell_type": "code",
   "execution_count": 27,
   "id": "c8bce364",
   "metadata": {},
   "outputs": [
    {
     "name": "stdout",
     "output_type": "stream",
     "text": [
      "N=2 error rate: 0.39 \n",
      "N=4 error rate: 0.35 \n",
      "N=6 error rate: 0.30 \n",
      "N=8 error rate: 0.20 \n",
      "N=10 error rate: 0.17 \n",
      "N=12 error rate: 0.17 \n",
      "N=15 error rate: 0.16 \n",
      "N=20 error rate: 0.09 \n",
      "N=25 error rate: 0.11 \n",
      "N=30 error rate: 0.10 \n"
     ]
    },
    {
     "data": {
      "image/png": "[encoded data removed]",
      "text/plain": [
       "<Figure size 432x288 with 1 Axes>"
      ]
     },
     "metadata": {
      "needs_background": "light"
     },
     "output_type": "display_data"
    }
   ],
   "source": [
    "from sklearn.neural_network import MLPClassifier\n",
    "\n",
    "NNclf = MLPClassifier(hidden_layer_sizes=100,activation='logistic')\n",
    "best_n, scores = search_gene(NNclf)\n",
    "\n",
    "draw(scores, 'MLP Neural Network')"
   ]
  },
  {
   "cell_type": "markdown",
   "id": "ed02a583",
   "metadata": {},
   "source": [
    "ExtraTreesClassifier"
   ]
  },
  {
   "cell_type": "code",
   "execution_count": 206,
   "id": "6845931f",
   "metadata": {},
   "outputs": [
    {
     "name": "stdout",
     "output_type": "stream",
     "text": [
      "N=2 error rate: 0.32 \n",
      "N=4 error rate: 0.25 \n",
      "N=6 error rate: 0.27 \n",
      "N=8 error rate: 0.16 \n",
      "N=10 error rate: 0.16 \n",
      "N=12 error rate: 0.13 \n",
      "N=15 error rate: 0.07 \n",
      "N=20 error rate: 0.06 \n",
      "N=25 error rate: 0.07 \n",
      "N=30 error rate: 0.04 \n"
     ]
    },
    {
     "data": {
      "image/png": "[encoded data removed]",
      "text/plain": [
       "<Figure size 432x288 with 1 Axes>"
      ]
     },
     "metadata": {
      "needs_background": "light"
     },
     "output_type": "display_data"
    }
   ],
   "source": [
    "from sklearn.ensemble import ExtraTreesClassifier\n",
    "\n",
    "ETclf = ExtraTreesClassifier(n_estimators=200)\n",
    "best_n, scores = search_gene(ETclf)\n",
    "\n",
    "draw(scores, 'ExtraTreesClassifier')"
   ]
  },
  {
   "cell_type": "markdown",
   "id": "b4ee72a9",
   "metadata": {},
   "source": [
    "Convert test set to genes-in-columns format to prepare it for classification"
   ]
  },
  {
   "cell_type": "code",
   "execution_count": 203,
   "id": "c1fb1218",
   "metadata": {},
   "outputs": [],
   "source": [
    "best_n = 30\n",
    "\n",
    "best_gene=pd.read_csv('pp5i_train.top'+str(best_n)+'.gr.csv').drop(labels='Class',axis=1).columns.tolist()\n",
    "for i in range(0, len(best_gene)):\n",
    "    best_gene[i] = int(best_gene[i])\n",
    "y_test = test_df.loc[best_gene,: ].reset_index(drop=True)\n",
    "y_test =y_test.T"
   ]
  },
  {
   "cell_type": "code",
   "execution_count": 204,
   "id": "66506b27",
   "metadata": {},
   "outputs": [],
   "source": [
    "pd.read_csv('pp5i_train.top'+str(best_n)+'.gr.csv').to_csv('pp5i_train.bestN.csv', index=False)\n",
    "y_test.to_csv('pp5i_test.bestN.csv', index=False)"
   ]
  },
  {
   "cell_type": "markdown",
   "id": "792195be",
   "metadata": {},
   "source": [
    "## Step 4. Generate predictions for the test set "
   ]
  },
  {
   "cell_type": "code",
   "execution_count": 208,
   "id": "f1dfdaf1",
   "metadata": {},
   "outputs": [],
   "source": [
    "from sklearn.metrics import classification_report\n",
    "from sklearn.utils import class_weight\n",
    "\n",
    "x_train = pd.read_csv('pp5i_train.bestN.csv').drop(labels='Class', axis=1).values.tolist()\n",
    "y_train = le.transform(np.ravel(pd.read_csv('pp5i_train.bestN.csv', usecols=['Class']).values.tolist()))\n",
    "\n",
    "\n",
    "clf = ExtraTreesClassifier(n_estimators=200)\n",
    "clf.fit(x_train, y_train)\n",
    "np.savetxt('pp5i_test_class.txt', le.inverse_transform(clf.predict(y_test)), fmt='%s')\n"
   ]
  },
  {
   "cell_type": "code",
   "execution_count": 209,
   "id": "9f27ea86",
   "metadata": {},
   "outputs": [
    {
     "name": "stdout",
     "output_type": "stream",
     "text": [
      "              precision    recall  f1-score   support\n",
      "\n",
      "         EPD       1.00      1.00      1.00        10\n",
      "         JPA       1.00      1.00      1.00         6\n",
      "         MED       1.00      1.00      1.00        39\n",
      "         MGL       1.00      1.00      1.00         7\n",
      "         RHB       1.00      1.00      1.00         7\n",
      "\n",
      "    accuracy                           1.00        69\n",
      "   macro avg       1.00      1.00      1.00        69\n",
      "weighted avg       1.00      1.00      1.00        69\n",
      "\n"
     ]
    }
   ],
   "source": [
    "classes = np.unique(class_df.values)\n",
    "print(classification_report(y_train, clf.predict(x_train), target_names=classes))"
   ]
  },
  {
   "cell_type": "markdown",
   "id": "76c80c3f",
   "metadata": {},
   "source": [
    "## Step 5. Generate a prediction using Adaptive Boosting"
   ]
  },
  {
   "cell_type": "code",
   "execution_count": 210,
   "id": "84d34794",
   "metadata": {},
   "outputs": [],
   "source": [
    "from sklearn.ensemble import AdaBoostClassifier"
   ]
  },
  {
   "cell_type": "code",
   "execution_count": 211,
   "id": "0c98b08d",
   "metadata": {},
   "outputs": [
    {
     "data": {
      "text/plain": [
       "AdaBoostClassifier(base_estimator=ExtraTreesClassifier(n_estimators=200))"
      ]
     },
     "execution_count": 211,
     "metadata": {},
     "output_type": "execute_result"
    }
   ],
   "source": [
    "clf = AdaBoostClassifier(base_estimator=ExtraTreesClassifier(n_estimators=200))\n",
    "clf.fit(x_train, y_train)"
   ]
  },
  {
   "cell_type": "code",
   "execution_count": 212,
   "id": "4d3d0ca4",
   "metadata": {},
   "outputs": [],
   "source": [
    "y = clf.predict(y_test)"
   ]
  },
  {
   "cell_type": "code",
   "execution_count": 213,
   "id": "005c83e1",
   "metadata": {},
   "outputs": [
    {
     "name": "stdout",
     "output_type": "stream",
     "text": [
      "N=30 accuracy: 0.96 \n"
     ]
    }
   ],
   "source": [
    "accuracy = []\n",
    "scores = cross_val_score(clf,x_train,y_train)\n",
    "score = scores.mean()\n",
    "accuracy.append(score)\n",
    "print(\"N=%d accuracy: %0.2f \" % (n, score))"
   ]
  },
  {
   "cell_type": "code",
   "execution_count": 214,
   "id": "51b5e7f8",
   "metadata": {},
   "outputs": [],
   "source": [
    "np.savetxt('pp5i_ada_test_class.txt', le.inverse_transform(clf.predict(y_test)), fmt='%s')"
   ]
  }
 ],
 "metadata": {
  "kernelspec": {
   "display_name": "Python 3",
   "language": "python",
   "name": "python3"
  },
  "language_info": {
   "codemirror_mode": {
    "name": "ipython",
    "version": 3
   },
   "file_extension": ".py",
   "mimetype": "text/x-python",
   "name": "python",
   "nbconvert_exporter": "python",
   "pygments_lexer": "ipython3",
   "version": "3.8.8"
  }
 },
 "nbformat": 4,
 "nbformat_minor": 5
}
