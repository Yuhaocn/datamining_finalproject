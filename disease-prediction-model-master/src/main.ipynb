{
 "cells": [
  {
   "cell_type": "markdown",
   "metadata": {
    "colab_type": "text",
    "id": "LsT97HrmqH_0"
   },
   "source": [
    "**Imports and Drive Mount**"
   ]
  },
  {
   "cell_type": "code",
   "execution_count": 2,
   "metadata": {
    "colab": {
     "base_uri": "https://localhost:8080/",
     "height": 122
    },
    "colab_type": "code",
    "id": "I46nIb9sUEzK",
    "outputId": "cd45164d-9cc8-4468-fd52-0d5f556e639e"
   },
   "outputs": [],
   "source": [
    "\n",
    "import pandas as pd\n",
    "from sklearn import preprocessing\n",
    "import matplotlib.pyplot as plt\n",
    "import logging\n",
    "logging.getLogger(\"sklearn\").setLevel(logging.ERROR)\n",
    "\n",
    "import warnings\n",
    "warnings.filterwarnings('ignore')\n"
   ]
  },
  {
   "cell_type": "markdown",
   "metadata": {
    "colab_type": "text",
    "id": "XzyVKt-XqUVk"
   },
   "source": [
    "**Data Loading**\n",
    "\n",
    "Data is loaded from the file system and the sample labels are encoded to numerical values using the label encoder.\n"
   ]
  },
  {
   "cell_type": "code",
   "execution_count": 3,
   "metadata": {
    "colab": {},
    "colab_type": "code",
    "id": "qfnwrt-gUarA"
   },
   "outputs": [],
   "source": [
    "train_url = 'C:/Users/zyuha/OneDrive/CS590 FINAL PROJECT/challenge1/disease-prediction-model-master/datasets/pp5i_train.gr.csv'\n",
    "test_url = 'C:/Users/zyuha/OneDrive/CS590 FINAL PROJECT/challenge1/disease-prediction-model-master/datasets/pp5i_test.gr.csv'\n",
    "class_url = 'C:/Users/zyuha/OneDrive/CS590 FINAL PROJECT/challenge1/disease-prediction-model-master/datasets/pp5i_train_class.txt'\n",
    "\n",
    "train_df = pd.read_csv(train_url)\n",
    "test_df = pd.read_csv(test_url)\n",
    "class_df = pd.read_csv(class_url)\n",
    "\n",
    "class_np = class_df.to_numpy()\n",
    "\n",
    "le = preprocessing.LabelEncoder()\n",
    "le.fit(class_np)\n",
    "train_class = le.transform(class_np)\n"
   ]
  },
  {
   "cell_type": "markdown",
   "metadata": {
    "colab_type": "text",
    "id": "dk8FKVnctDBg"
   },
   "source": [
    "**Data Cleaning**\n",
    "\n",
    "Once loaded and encoded, the SNO column is backedup and is removed from further processing. After which values below 20 and 16000 are clipped to 20 and 16000. "
   ]
  },
  {
   "cell_type": "code",
   "execution_count": 4,
   "metadata": {
    "colab": {
     "base_uri": "https://localhost:8080/",
     "height": 809
    },
    "colab_type": "code",
    "id": "PkfFzdWVNcfP",
    "outputId": "144958ef-a789-476e-f6a4-daf28874b6c0"
   },
   "outputs": [
    {
     "name": "stdout",
     "output_type": "stream",
     "text": [
      "\u001b[4m Training Data: \u001b[0m \n",
      "                  SNO    1   2    3    4    5    6   7    8   9  ...   61   62  \\\n",
      "2506       U00921_at   20  20   20   20   20   20  20   20  20  ...   26   20   \n",
      "6528     U59877_s_at   20  45   20   20   20   20  20   20  20  ...  285  341   \n",
      "6663   AF000424_s_at   20  20   20   20   20   20  20   20  20  ...   20   20   \n",
      "5503     D13631_s_at   21  54   20   31   20   20  20   20  20  ...  114  141   \n",
      "3688       U79242_at   20  20   20   20   32   20  20   20  20  ...   31   20   \n",
      "...              ...  ...  ..  ...  ...  ...  ...  ..  ...  ..  ...  ...  ...   \n",
      "6861  X54489_rna1_at   20  20   20   20   20   20  20   20  20  ...   20   20   \n",
      "1241       L13042_at   50  53   48   42   40   43  61   30  26  ...   41   36   \n",
      "1658  M14159_cds2_at   48  85  108   27   54   46  24   20  20  ...   82   78   \n",
      "3355       U56816_at  122  73   79  120  151  119  67  100  40  ...   74  103   \n",
      "4156       X51757_at   20  20   20   21   20   20  27   20  20  ...   52   20   \n",
      "\n",
      "       63   64    65   66    67    68    69        rank  \n",
      "2506   44  155    92  118   115   102   119  222.388504  \n",
      "6528  381  924  1499  923  1358  1081  1120  166.874021  \n",
      "6663   34  128    63   73   102    94    92  162.284150  \n",
      "5503   89  329   365  331   396   314   293  148.242194  \n",
      "3688   20  261   175  153   192   185   121  139.143388  \n",
      "...   ...  ...   ...  ...   ...   ...   ...         ...  \n",
      "6861   33   20    20   20    20    20    20    0.102060  \n",
      "1241   34   36    34   48    40    41    30    0.099092  \n",
      "1658   35   63    56   20    62    48    38    0.092244  \n",
      "3355   88   98    93  114    73    76   103    0.081504  \n",
      "4156   41   47    25   50    25    20    32    0.065644  \n",
      "\n",
      "[6413 rows x 71 columns] \n",
      "\n",
      "\u001b[4m Testing Data: \u001b[0m \n",
      "                  SNO  101  102  103  104  105  106  107  108  109  ...  115  \\\n",
      "2506       U00921_at   20   25   20   20   20   20   20   20   42  ...   20   \n",
      "6528     U59877_s_at  176   20   20   20   20   20   20   20   96  ...   20   \n",
      "6663   AF000424_s_at   20   20   20   20   20   20   20   20   20  ...   20   \n",
      "5503     D13631_s_at   44  165   20   20   66   20   37   22   72  ...   20   \n",
      "3688       U79242_at   53   20   74   20   42   27   20   20   29  ...   21   \n",
      "...              ...  ...  ...  ...  ...  ...  ...  ...  ...  ...  ...  ...   \n",
      "6861  X54489_rna1_at   20   20   20   20   20   20   20   20  232  ...   20   \n",
      "1241       L13042_at   39   49   20   47   50   21   30   42   42  ...   36   \n",
      "1658  M14159_cds2_at   60   55   69   30   20   20   20   74   20  ...   20   \n",
      "3355       U56816_at  211   85  167   99  124   20   45  115  122  ...   20   \n",
      "4156       X51757_at   20   20   48   20  122   20   20   20   60  ...   35   \n",
      "\n",
      "      116  117  118  119  120  121  122  123        rank  \n",
      "2506   20   20   20   20   20   20   20   20  222.388504  \n",
      "6528   20  240  210   20  180  278   20  185  166.874021  \n",
      "6663   20   20   20   20   20   20   20   20  162.284150  \n",
      "5503   20  231   43   20   20   59   20   56  148.242194  \n",
      "3688   20   20   20   20   20   70   30   20  139.143388  \n",
      "...   ...  ...  ...  ...  ...  ...  ...  ...         ...  \n",
      "6861   20   20   20   20   20   20   20   20    0.102060  \n",
      "1241   30   39   52   39   55   44   53   26    0.099092  \n",
      "1658   20   20  126   51   20  139   20   40    0.092244  \n",
      "3355   61  155   92  183  101  130   77  112    0.081504  \n",
      "4156   45   20   20   20  444  111   20   48    0.065644  \n",
      "\n",
      "[6413 rows x 25 columns] \n",
      "\n"
     ]
    },
    {
     "data": {
      "image/png": "[encoded data removed]",
      "text/plain": [
       "<Figure size 432x288 with 1 Axes>"
      ]
     },
     "metadata": {
      "needs_background": "light"
     },
     "output_type": "display_data"
    }
   ],
   "source": [
    "ttdf_sno=train_df['SNO']\n",
    "ttdf_rem=train_df.iloc[:,1:]\n",
    "ttdf_rem=ttdf_rem.clip(20,16000)\n",
    "\n",
    "tsdf_sno=test_df['SNO']\n",
    "tsdf_rem=test_df.iloc[:,1:]\n",
    "tsdf_rem=tsdf_rem.clip(20,16000)\n",
    "\n",
    "\n",
    "ttdf_cal = ttdf_rem.max(axis=1)/ttdf_rem.min(axis=1)\n",
    "ttdf_cal = abs(ttdf_cal)\n",
    "del_ind = ttdf_cal[ttdf_cal<2].index\n",
    "\n",
    "train_tdf = pd.concat([ttdf_sno.drop(del_ind),ttdf_rem.drop(del_ind)],axis=1,sort=False)\n",
    "test_tdf = pd.concat ([tsdf_sno.drop(del_ind),tsdf_rem.drop(del_ind)],axis=1,sort=False)\n",
    "\n",
    "from sklearn.feature_selection import f_classif\n",
    "tTrain_tdf = train_tdf.T[1:]\n",
    "new_train = f_classif(tTrain_tdf,train_class)\n",
    "train_tdf['rank']=new_train[0]\n",
    "test_tdf['rank']=new_train[0]\n",
    "\n",
    "train_tdf=train_tdf.sort_values('rank',ascending=False)\n",
    "test_tdf=test_tdf.sort_values('rank',ascending=False)\n",
    "\n",
    "print(\"\\033[4m Training Data: \\033[0m \\n\",train_tdf,\"\\n\")\n",
    "print(\"\\033[4m Testing Data: \\033[0m \\n\",test_tdf,\"\\n\")\n",
    "\n",
    "training_data = train_tdf.drop('SNO',axis=1)\n",
    "training_data = training_data.drop('rank',axis=1)\n",
    "training_data = training_data.to_numpy()\n",
    "\n",
    "p=plt.plot(training_data)\n"
   ]
  },
  {
   "cell_type": "code",
   "execution_count": 5,
   "metadata": {
    "colab": {},
    "colab_type": "code",
    "id": "03EzmqkXjGid"
   },
   "outputs": [],
   "source": [
    "import numpy as np\n",
    "from numpy import savetxt\n",
    "from numpy import genfromtxt\n",
    "\n",
    "def unique_rows(a):\n",
    "    order = np.lexsort(a.T)\n",
    "    a = a[order]\n",
    "    diff = np.diff(a, axis=0)\n",
    "    ui = np.ones(len(a), 'bool')\n",
    "    ui[1:] = (diff != 0).any(axis=1) \n",
    "    return a[ui]\n",
    "\n",
    "NList = [2,4,6,8,10,12,15,20,25,30]\n",
    "\n",
    "for N in NList:\n",
    "  x_train = train_tdf.drop('SNO',axis=1)\n",
    "  x_train = x_train.drop('rank',axis=1)\n",
    "  x_train = x_train.to_numpy()\n",
    "  x_train = x_train[:N].T\n",
    "  x_trainN = np.c_[x_train, train_class]\n",
    "  x_trainN=unique_rows(x_trainN)\n",
    "\n",
    "  filename=\"pp5i_train.top\"+str(N)+\".gr.csv\"\n",
    "  savetxt(filename, x_trainN, delimiter=',')\n"
   ]
  },
  {
   "cell_type": "code",
   "execution_count": 6,
   "metadata": {},
   "outputs": [
    {
     "data": {
      "text/plain": [
       "array([[ 22, 257,  20, ...,  49,  20,   0],\n",
       "       [ 20, 341,  20, ...,  56,  20,   0],\n",
       "       [ 25,  20,  20, ...,  91,  20,   0],\n",
       "       ...,\n",
       "       [ 20, 120,  20, ...,  20,  26,   4],\n",
       "       [ 20, 204,  20, ...,  20,  27,   4],\n",
       "       [ 33, 158,  22, ...,  35,  31,   4]], dtype=int64)"
      ]
     },
     "execution_count": 6,
     "metadata": {},
     "output_type": "execute_result"
    }
   ],
   "source": [
    "x_trainN"
   ]
  },
  {
   "cell_type": "code",
   "execution_count": 7,
   "metadata": {
    "colab": {},
    "colab_type": "code",
    "id": "daGYk-mOkKuw"
   },
   "outputs": [],
   "source": [
    "import numpy as np\n",
    "import matplotlib.pyplot as plt\n",
    "from sklearn.metrics import roc_curve, auc\n",
    "from sklearn.model_selection import StratifiedKFold\n",
    "\n",
    "from sklearn.naive_bayes import GaussianNB\n",
    "from sklearn.tree import DecisionTreeClassifier\n",
    "from sklearn.neighbors import KNeighborsClassifier\n",
    "from sklearn.ensemble import ExtraTreesClassifier\n",
    "from sklearn.ensemble import RandomForestClassifier\n",
    "from sklearn.linear_model import LogisticRegression\n",
    "from sklearn.neural_network import MLPClassifier\n",
    "\n",
    "\n",
    "CList = [\"GaussianNB\",\"DecisionTreeClassifier\",\"KNeighborsClassifier\",\"MLP\",\"ExtraTreesClassifier\"]\n",
    "\n",
    "funcdict = {\n",
    "  'GaussianNB': GaussianNB,\n",
    "  'DecisionTreeClassifier': DecisionTreeClassifier,\n",
    "  'KNeighborsClassifier': KNeighborsClassifier,\n",
    "  'MLP': MLPClassifier,\n",
    "  'ExtraTreesClassifier': ExtraTreesClassifier,\n",
    "}\n",
    "\n",
    "arr = np.zeros((10,6))\n",
    "row =0 \n",
    "\n",
    "\n",
    "for N in NList:\n",
    "  NRow = list()\n",
    "  NRow.append(N)\n",
    "\n",
    "  col =0\n",
    "  arr[row][col]=N\n",
    "\n",
    "  filename=\"pp5i_train.top\"+str(N)+\".gr.csv\"\n",
    "  data_arr = np.genfromtxt(filename,delimiter=',') \n",
    "  x_trainNT = data_arr[:,:-1]\n",
    "  y_trainNT = data_arr[:,-1]\n",
    "\n",
    "  for C in funcdict:\n",
    "    if C=='KNeighborsClassifier':\n",
    "      clf = funcdict[C](3)\n",
    "    elif C=='ExtraTreesClassifier':\n",
    "      clf = funcdict[C](n_estimators=350)\n",
    "    elif C=='MLP':\n",
    "      clf = MLPClassifier(activation = 'relu', solver = 'sgd', hidden_layer_sizes= (25, 25),random_state = 1, max_iter=250)\n",
    "    else:\n",
    "      clf = funcdict[C]()\n",
    "      \n",
    "\n",
    "    clf.fit(x_trainNT,y_trainNT)\n",
    "\n",
    "    from sklearn.model_selection import cross_val_score\n",
    "    scores = cross_val_score(clf, x_trainNT, y_trainNT,cv=5)\n",
    "    NRow.append(scores.mean())\n",
    "    col+=1\n",
    "    arr[row][col]=1-scores.mean()  \n",
    "  row+=1"
   ]
  },
  {
   "cell_type": "code",
   "execution_count": 8,
   "metadata": {
    "colab": {},
    "colab_type": "code",
    "id": "RNAx3AarHHmE"
   },
   "outputs": [],
   "source": [
    "CList = [\"GaussianNB\",\"DecisionTreeClassifier\",\"KNeighborsClassifier\",\"MLP\",\"ExtraTreesClassifier\"]\n",
    "\n",
    "NMList = list()\n",
    "for i in arr[:,1:]:\n",
    "  NMList.append(np.mean(i))\n",
    "\n",
    "CMList = list()\n",
    "for i in range(arr.shape[1]-1):\n",
    "  CMList.append(np.mean(arr[:,i+1]))\n",
    "  \n",
    "maxN = min(NMList)\n",
    "mi=[i for i, j in enumerate(NMList) if j == maxN]\n",
    "maxNV = NList[mi[0]]\n",
    "\n",
    "maxC = min(CMList)\n",
    "mi=[i for i, j in enumerate(CMList) if j == maxC]\n",
    "maxCV = CList[mi[0]]\n",
    "\n",
    "filename=\"pp5i_train.top\"+str(maxNV)+\".gr.csv\"\n",
    "data_arr = np.genfromtxt(filename,delimiter=',') \n",
    "best_genes_set = data_arr[:,:-1]\n",
    "best_genes_cls = data_arr[:,-1]\n",
    "filename=\"pp5i_train.bestN.csv\"\n",
    "savetxt(filename, best_genes_set, delimiter=',')\n",
    "\n",
    "x_test = test_tdf.drop('SNO',axis=1)\n",
    "x_test = x_test.drop('rank',axis=1)\n",
    "x_test = x_test.to_numpy()\n",
    "x_test = x_test[:maxNV].T\n",
    "filename=\"pp5i_test.bestN.csv\"\n",
    "savetxt(filename, x_test, delimiter=',')\n"
   ]
  },
  {
   "cell_type": "code",
   "execution_count": 9,
   "metadata": {
    "colab": {
     "base_uri": "https://localhost:8080/",
     "height": 404
    },
    "colab_type": "code",
    "id": "kBZScOqiTprj",
    "outputId": "a1cda651-745c-4008-eb06-2b7378c40099"
   },
   "outputs": [
    {
     "data": {
      "image/png": "[encoded data removed]",
      "text/plain": [
       "<Figure size 720x432 with 2 Axes>"
      ]
     },
     "metadata": {
      "needs_background": "light"
     },
     "output_type": "display_data"
    }
   ],
   "source": [
    "import matplotlib.pyplot as plt\n",
    "\n",
    "plt.figure(figsize = (10,6))\n",
    "\n",
    "hm=plt.imshow(arr[:,1:],aspect='auto')\n",
    "cb=plt.colorbar()\n",
    "\n",
    "xlocs, xlabels=plt.xticks()\n",
    "ylocs, ylabels=plt.yticks()\n",
    "\n",
    "new_xlocs=[0,1,2,3,4]\n",
    "new_xlabels=['GNB','DTC','KNC','NN','ETC']\n",
    "# new_xlabels=CList\n",
    "xt = plt.xticks(new_xlocs,new_xlabels)\n",
    "\n",
    "new_ylocs=[0,1,2,3,4,5,6,7,8,9]\n",
    "\n",
    "new_ylabels=NList\n",
    "yt = plt.yticks(new_ylocs,new_ylabels)\n",
    "\n",
    "titl = plt.title(\"Error rate heat map\")\n",
    "yl = plt.ylabel(\"N Genes\")\n",
    "yl = plt.xlabel(\"Classifier\")"
   ]
  },
  {
   "cell_type": "code",
   "execution_count": 10,
   "metadata": {
    "colab": {
     "base_uri": "https://localhost:8080/",
     "height": 404
    },
    "colab_type": "code",
    "id": "fdlmTW-zfmuq",
    "outputId": "a9a9023c-4852-4d9b-d822-045baa901b98"
   },
   "outputs": [
    {
     "data": {
      "image/png": "[encoded data removed]",
      "text/plain": [
       "<Figure size 720x432 with 1 Axes>"
      ]
     },
     "metadata": {
      "needs_background": "light"
     },
     "output_type": "display_data"
    }
   ],
   "source": [
    "err_arr = arr[:,1:]\n",
    "\n",
    "cdict = {0: 'indigo',1: 'magenta', 2: 'blue', 3: 'green', 4: 'red'}\n",
    "plt.figure(figsize = (10,6))\n",
    "for i in range(err_arr.shape[1]):\n",
    "  plt.plot(err_arr[:,i],c = cdict[i], label = new_xlabels[i])\n",
    "lg = plt.legend()\n",
    "xt = plt.xticks([0,1,2,3,4,5,6,7,8,9],new_ylabels)\n",
    "titl = plt.title(\"Error rate against N-Genes\")\n",
    "yl = plt.xlabel(\"N Genes\")\n",
    "yl = plt.ylabel(\"Error Rate\")"
   ]
  },
  {
   "cell_type": "code",
   "execution_count": 11,
   "metadata": {
    "colab": {
     "base_uri": "https://localhost:8080/",
     "height": 68
    },
    "colab_type": "code",
    "id": "oS4A15lxSYRO",
    "outputId": "f637f8e8-782b-4920-d6c7-dc26e460faff"
   },
   "outputs": [
    {
     "name": "stdout",
     "output_type": "stream",
     "text": [
      "Best N         :  25\n",
      "Best Clasifier :  ExtraTreesClassifier\n",
      "Best Accuracy  :  0.9714285714285715\n"
     ]
    }
   ],
   "source": [
    "  \n",
    "  filename=\"pp5i_train.bestN.csv\"\n",
    "  data_arr = np.genfromtxt(filename,delimiter=',') \n",
    "  x_trainNT = data_arr\n",
    "  y_trainNT = best_genes_cls\n",
    "\n",
    "  clf = funcdict[maxCV]()\n",
    "\n",
    "  if maxCV=='KNeighborsClassifier':\n",
    "    clf = funcdict[C](3)\n",
    "  elif maxCV=='ExtraTreesClassifier':\n",
    "    clf = funcdict[C](n_estimators=350)\n",
    "  elif maxCV=='MLP':\n",
    "    clf = MLPClassifier(activation = 'relu', solver = 'sgd', hidden_layer_sizes= (25, 25),random_state = 1, max_iter=250)\n",
    "  else:\n",
    "    clf = funcdict[C]()\n",
    "  \n",
    "  clf.fit(x_trainNT,y_trainNT)\n",
    "\n",
    "  from sklearn.model_selection import cross_val_score\n",
    "  scores = cross_val_score(clf, x_trainNT, y_trainNT,cv=5)\n",
    "\n",
    "  print(\"Best N         : \",maxNV)\n",
    "  print(\"Best Clasifier : \",maxCV)\n",
    "  print(\"Best Accuracy  : \",np.mean(scores))\n",
    "\n",
    "\n"
   ]
  },
  {
   "cell_type": "code",
   "execution_count": 12,
   "metadata": {
    "colab": {
     "base_uri": "https://localhost:8080/",
     "height": 68
    },
    "colab_type": "code",
    "id": "0ayuz328i9o7",
    "outputId": "67860626-53fb-46d0-c751-190b576eb48d"
   },
   "outputs": [
    {
     "name": "stdout",
     "output_type": "stream",
     "text": [
      "Test dataset predictions :\n",
      " ['MGL' 'EPD' 'MED' 'MED' 'EPD' 'MED' 'MED' 'MED' 'EPD' 'JPA' 'JPA' 'MED'\n",
      " 'MED' 'MED' 'MED' 'MED' 'MGL' 'MED' 'MED' 'RHB' 'RHB' 'MED' 'MED']\n"
     ]
    }
   ],
   "source": [
    "filename=\"pp5i_test.bestN.csv\"\n",
    "x_testN = np.genfromtxt(filename,delimiter=',') \n",
    "\n",
    "num_out = clf.predict(x_testN)\n",
    "\n",
    "test_class = le.inverse_transform(num_out.astype(int))\n",
    "print(\"Test dataset predictions :\\n\",test_class)"
   ]
  },
  {
   "cell_type": "code",
   "execution_count": null,
   "metadata": {},
   "outputs": [],
   "source": []
  }
 ],
 "metadata": {
  "colab": {
   "collapsed_sections": [],
   "name": "Gene_Mine.ipynb",
   "provenance": []
  },
  "kernelspec": {
   "display_name": "Python 3",
   "language": "python",
   "name": "python3"
  },
  "language_info": {
   "codemirror_mode": {
    "name": "ipython",
    "version": 3
   },
   "file_extension": ".py",
   "mimetype": "text/x-python",
   "name": "python",
   "nbconvert_exporter": "python",
   "pygments_lexer": "ipython3",
   "version": "3.8.8"
  }
 },
 "nbformat": 4,
 "nbformat_minor": 1
}
